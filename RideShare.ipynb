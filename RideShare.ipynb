{
  "cells": [
    {
      "cell_type": "markdown",
      "metadata": {
        "id": "A80nNiBfvfT3"
      },
      "source": [
        "# Ride Share Dataset"
      ]
    },
    {
      "cell_type": "markdown",
      "metadata": {
        "id": "IV5qQITbvmeT"
      },
      "source": [
        "**Ride Share(Boston) Dataset Glossary**\n",
        "\n",
        "|Variable|Description|\n",
        "|---|---|\n",
        "|Distance|Distance Between Source and Destination|\n",
        "|cab_type|Uber or Lyft|\n",
        "|time_stamp|epoch time when data was queried|\n",
        "|destination|destination of the ride|\n",
        "|source|the starting point of the ride|\n",
        "|price|price estimated for the ride in USD|\n",
        "|surge_multiplier|the multiplier by which price was increased, default 1|\n",
        "|id|unique identifier|\n",
        "|product_id|uber/lyft identifier for cab-type|\n",
        "|name|visible type of the cab eg: Uber Pool, UberXL|\n"
      ]
    },
    {
      "cell_type": "markdown",
      "metadata": {
        "id": "5tVmZFjduyDu"
      },
      "source": [
        "# **Import Libraries and Dataset**"
      ]
    },
    {
      "cell_type": "markdown",
      "metadata": {
        "id": "sZ12ibmEu41g"
      },
      "source": [
        "## Import Libraries"
      ]
    },
    {
      "cell_type": "code",
      "execution_count": 71,
      "metadata": {
        "id": "tktHzRg-uoKF"
      },
      "outputs": [],
      "source": [
        "# Libraries to help with reading and manipulating data\n",
        "import numpy as np\n",
        "import pandas as pd\n",
        "\n",
        "# Libraries to help with data visualization\n",
        "import matplotlib.pyplot as plt\n",
        "import seaborn as sns\n",
        "\n",
        "# to restrict the float value to 3 decimal places\n",
        "pd.set_option('display.float_format', lambda x: '%.3f' % x)"
      ]
    },
    {
      "cell_type": "markdown",
      "metadata": {
        "id": "BjPyBWdXu8r6"
      },
      "source": [
        "## Import Dataset"
      ]
    },
    {
      "cell_type": "code",
      "execution_count": 72,
      "metadata": {
        "colab": {
          "base_uri": "https://localhost:8080/"
        },
        "id": "wp6bFItOvHKC",
        "outputId": "c01d6d38-7be0-4cbd-ba28-70168b485618"
      },
      "outputs": [],
      "source": [
        "#import data as a pandas dataframe\n",
        "\n",
        "# Access the .csv file in Google Drive folder. The file path must be correct\n",
        "data = pd.read_csv('cab_rides.csv')"
      ]
    },
    {
      "cell_type": "markdown",
      "metadata": {
        "id": "sUciyM9mxwGO"
      },
      "source": [
        "# **Data Check**"
      ]
    },
    {
      "cell_type": "markdown",
      "metadata": {
        "id": "EelSDhtEx9ID"
      },
      "source": [
        "### View the first five and last five rows of the dataframe"
      ]
    },
    {
      "cell_type": "markdown",
      "metadata": {
        "id": "nFLqV8jlyELw"
      },
      "source": [
        "### Determine the number of entries in the dataframe"
      ]
    },
    {
      "cell_type": "markdown",
      "metadata": {
        "id": "PnEaFjMYyVF8"
      },
      "source": [
        "### Check the data types for each entry"
      ]
    },
    {
      "cell_type": "code",
      "execution_count": null,
      "metadata": {},
      "outputs": [],
      "source": []
    },
    {
      "cell_type": "markdown",
      "metadata": {},
      "source": [
        "Convert \"timestamp\" to a datetime datatype"
      ]
    },
    {
      "cell_type": "code",
      "execution_count": null,
      "metadata": {},
      "outputs": [],
      "source": [
        "#Convert \"timestamp\" to a datetime datatype\n",
        "data['date'] = pd.to_datetime(data['time_stamp'],unit='ms')\n",
        "data = data.drop(['time_stamp'], axis=1)\n",
        "data"
      ]
    },
    {
      "cell_type": "code",
      "execution_count": null,
      "metadata": {},
      "outputs": [],
      "source": [
        "# Bin datetime to hours\n",
        "data['hourly_bins'] = pd.cut(data['date'], bins=pd.date_range(start=data['date'].min(), end=data['date'].max(), freq='H'))\n",
        "data['hours'] = data['hourly_bins'].apply(lambda x: x.left.hour)\n",
        "data = data.drop('hourly_bins', axis=1)\n",
        "map = {0.000:\"12:00AM\",1.000:\"1:00AM\",2.000:\"2:00AM\",3.000:\"3:00AM\",4.000:\"4:00AM\",5.000:\"5:00AM\",6.000:\"6:00AM\",7.000:\"7:00AM\",8.000:\"8:00AM\",9.000:\"9:00AM\",10.000:\"10:00AM\",11.000:\"11:00AM\",12.000:\"12:00PM\",13.000:\"1:00PM\",14.000:\"2:00PM\",15.000:\"3:00PM\",16.000:\"4:00PM\",17.000:\"5:00PM\",18.000:\"6:00PM\",19.000:\"7:00PM\",20.000:\"8:00PM\",21.000:\"9:00PM\",22.000:\"10:00PM\",23.000:\"11:00PM\",24.000:\"12:00PM\"}\n",
        "data[\"hours\"].replace(map, inplace=True)\n",
        "data"
      ]
    },
    {
      "cell_type": "markdown",
      "metadata": {
        "id": "kNkb_rOUyajD"
      },
      "source": [
        "### Check for missing values"
      ]
    },
    {
      "cell_type": "code",
      "execution_count": null,
      "metadata": {
        "id": "PojqDPLTyfGE"
      },
      "outputs": [],
      "source": []
    },
    {
      "cell_type": "markdown",
      "metadata": {
        "id": "KcBUyNE8yfbu"
      },
      "source": [
        "### Check for duplicate values and remove duplicate values if any exist"
      ]
    },
    {
      "cell_type": "code",
      "execution_count": null,
      "metadata": {
        "id": "CZTS4dHQyk97"
      },
      "outputs": [],
      "source": []
    },
    {
      "cell_type": "markdown",
      "metadata": {
        "id": "n1XrkeZ7ylR5"
      },
      "source": [
        "### Create a statistical summary of the numerical data"
      ]
    },
    {
      "cell_type": "code",
      "execution_count": null,
      "metadata": {
        "id": "iSslHm3Oyq5m"
      },
      "outputs": [],
      "source": []
    },
    {
      "cell_type": "markdown",
      "metadata": {},
      "source": [
        "# **Initial Analysis**"
      ]
    },
    {
      "cell_type": "markdown",
      "metadata": {},
      "source": [
        "### Question 1: During which hours of the day do the majority of individuals utilize ride-sharing services?"
      ]
    },
    {
      "cell_type": "code",
      "execution_count": null,
      "metadata": {},
      "outputs": [],
      "source": []
    },
    {
      "cell_type": "markdown",
      "metadata": {
        "id": "6oShHKLdGNZ-"
      },
      "source": [
        "### Question 2: Which ride-sharing service generated the highest profit within the 2018 timeframe? Additionally, what was the average ride price for each of the ride-sharing services?"
      ]
    },
    {
      "cell_type": "code",
      "execution_count": null,
      "metadata": {},
      "outputs": [],
      "source": []
    },
    {
      "cell_type": "markdown",
      "metadata": {
        "id": "i2bYy7sZGn9v"
      },
      "source": [
        "### Question 3: What is the average price per mile for rides with Uber and those with Lyft in Boston?"
      ]
    },
    {
      "cell_type": "code",
      "execution_count": null,
      "metadata": {},
      "outputs": [],
      "source": []
    },
    {
      "cell_type": "markdown",
      "metadata": {},
      "source": [
        "### Question 4: How many more miles did Uber drivers drive than Lyft riders? What were the average distances travelled by both services?"
      ]
    },
    {
      "cell_type": "code",
      "execution_count": null,
      "metadata": {},
      "outputs": [],
      "source": []
    },
    {
      "cell_type": "markdown",
      "metadata": {},
      "source": [
        "### Question 5: Which departure -> destination combo is the most popular?"
      ]
    },
    {
      "cell_type": "code",
      "execution_count": null,
      "metadata": {},
      "outputs": [],
      "source": []
    }
  ],
  "metadata": {
    "colab": {
      "provenance": [],
      "toc_visible": true
    },
    "kernelspec": {
      "display_name": "Python 3",
      "name": "python3"
    },
    "language_info": {
      "codemirror_mode": {
        "name": "ipython",
        "version": 3
      },
      "file_extension": ".py",
      "mimetype": "text/x-python",
      "name": "python",
      "nbconvert_exporter": "python",
      "pygments_lexer": "ipython3",
      "version": "3.10.8"
    }
  },
  "nbformat": 4,
  "nbformat_minor": 0
}
