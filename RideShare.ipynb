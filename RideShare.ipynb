{
  "nbformat": 4,
  "nbformat_minor": 0,
  "metadata": {
    "colab": {
      "provenance": [],
      "toc_visible": true
    },
    "kernelspec": {
      "name": "python3",
      "display_name": "Python 3"
    },
    "language_info": {
      "name": "python"
    }
  },
  "cells": [
    {
      "cell_type": "markdown",
      "source": [
        "# Ride Share Dataset"
      ],
      "metadata": {
        "id": "A80nNiBfvfT3"
      }
    },
    {
      "cell_type": "markdown",
      "source": [
        "**Ride Share(Boston) Dataset Glossary**\n",
        "\n",
        "|Variable|Description|\n",
        "|---|---|\n",
        "|Distance|Distance Between Source and Destination|\n",
        "|cab_type|Uber or Lyft|\n",
        "|time_stamp|epoch time when data was queried|\n",
        "|destination|destination of the ride|\n",
        "|source|the starting point of the ride|\n",
        "|price|price estimated for the ride in USD|\n",
        "|surge_multiplier|the multiplier by which price was increased, default 1|\n",
        "|id|unique identifier|\n",
        "|product_id|uber/lyft identifier for cab-type|\n",
        "|name|visible type of the cab eg: Uber Pool, UberXL|\n"
      ],
      "metadata": {
        "id": "IV5qQITbvmeT"
      }
    },
    {
      "cell_type": "markdown",
      "source": [
        "# **Import Libraries and Dataset**"
      ],
      "metadata": {
        "id": "5tVmZFjduyDu"
      }
    },
    {
      "cell_type": "markdown",
      "source": [
        "## Import Libraries"
      ],
      "metadata": {
        "id": "sZ12ibmEu41g"
      }
    },
    {
      "cell_type": "code",
      "execution_count": null,
      "metadata": {
        "id": "tktHzRg-uoKF"
      },
      "outputs": [],
      "source": [
        "# Libraries to help with reading and manipulating data\n",
        "import numpy as np\n",
        "import pandas as pd\n",
        "\n",
        "# Libraries to help with data visualization\n",
        "import matplotlib.pyplot as plt\n",
        "import seaborn as sns\n",
        "\n",
        "# to restrict the float value to 3 decimal places\n",
        "pd.set_option('display.float_format', lambda x: '%.3f' % x)"
      ]
    },
    {
      "cell_type": "markdown",
      "source": [
        "## Import Dataset"
      ],
      "metadata": {
        "id": "BjPyBWdXu8r6"
      }
    },
    {
      "cell_type": "code",
      "source": [
        "#import data as a pandas dataframe\n",
        "\n",
        "# let colab access my google drive\n",
        "from google.colab import drive\n",
        "drive.mount('/content/drive')\n",
        "\n",
        "# Access the .csv file in Google Drive folder. The file path must be correct\n",
        "data = pd.read_csv('/content/drive/My Drive/Colab Notebooks/AP CS Principles/RideShare/cab_rides.csv')"
      ],
      "metadata": {
        "colab": {
          "base_uri": "https://localhost:8080/"
        },
        "id": "wp6bFItOvHKC",
        "outputId": "c01d6d38-7be0-4cbd-ba28-70168b485618"
      },
      "execution_count": null,
      "outputs": [
        {
          "output_type": "stream",
          "name": "stdout",
          "text": [
            "Mounted at /content/drive\n"
          ]
        }
      ]
    },
    {
      "cell_type": "markdown",
      "source": [
        "# Data Check"
      ],
      "metadata": {
        "id": "sUciyM9mxwGO"
      }
    },
    {
      "cell_type": "markdown",
      "source": [
        "## View the first and last rows of the dataframe"
      ],
      "metadata": {
        "id": "EelSDhtEx9ID"
      }
    },
    {
      "cell_type": "code",
      "source": [],
      "metadata": {
        "id": "mRVFOkeJyDqv"
      },
      "execution_count": null,
      "outputs": []
    },
    {
      "cell_type": "markdown",
      "source": [
        "## Determine the number of entries in the dataframe"
      ],
      "metadata": {
        "id": "nFLqV8jlyELw"
      }
    },
    {
      "cell_type": "code",
      "source": [],
      "metadata": {
        "id": "2IAVyjV9yUtJ"
      },
      "execution_count": null,
      "outputs": []
    },
    {
      "cell_type": "markdown",
      "source": [
        "## Check the data types for each entry"
      ],
      "metadata": {
        "id": "PnEaFjMYyVF8"
      }
    },
    {
      "cell_type": "code",
      "source": [],
      "metadata": {
        "id": "4I9jrpnyyaMg"
      },
      "execution_count": null,
      "outputs": []
    },
    {
      "cell_type": "markdown",
      "source": [
        "### **Question 1: Epoch Time to Date Time**\n",
        "\n",
        "\n",
        "1.   Google \"epoch time\" and explain what epoch time is in a text box below .\n",
        "2.   Google how to convert \"epoch time\" to date time format.\n",
        "3.   Convert the values in \"time_stamp\" to date time format and put them in a new column called \"date\".\n",
        "4.   Drop the \"time_stamp\" column from the dataframe.\n",
        "\n"
      ],
      "metadata": {
        "id": "fGsPf8KlEGgg"
      }
    },
    {
      "cell_type": "code",
      "source": [],
      "metadata": {
        "id": "lmV479MtzSTF"
      },
      "execution_count": null,
      "outputs": []
    },
    {
      "cell_type": "markdown",
      "source": [
        "## Check for missing values"
      ],
      "metadata": {
        "id": "kNkb_rOUyajD"
      }
    },
    {
      "cell_type": "code",
      "source": [],
      "metadata": {
        "id": "PojqDPLTyfGE"
      },
      "execution_count": null,
      "outputs": []
    },
    {
      "cell_type": "markdown",
      "source": [
        "## Check for duplicate values and remove duplicate values if any exist"
      ],
      "metadata": {
        "id": "KcBUyNE8yfbu"
      }
    },
    {
      "cell_type": "code",
      "source": [],
      "metadata": {
        "id": "CZTS4dHQyk97"
      },
      "execution_count": null,
      "outputs": []
    },
    {
      "cell_type": "markdown",
      "source": [
        "## Create a statistical summary of the numerical data"
      ],
      "metadata": {
        "id": "n1XrkeZ7ylR5"
      }
    },
    {
      "cell_type": "code",
      "source": [],
      "metadata": {
        "id": "iSslHm3Oyq5m"
      },
      "execution_count": null,
      "outputs": []
    },
    {
      "cell_type": "markdown",
      "source": [
        "### **Question 2: What is the most frequent surge multiplier for the rides in this dataframe?**"
      ],
      "metadata": {
        "id": "6oShHKLdGNZ-"
      }
    },
    {
      "cell_type": "markdown",
      "source": [],
      "metadata": {
        "id": "b3yD2j1nIqbP"
      }
    },
    {
      "cell_type": "markdown",
      "source": [
        "### **Question 3: What is the average price of rides with Uber/Lyft in Boston?**"
      ],
      "metadata": {
        "id": "i2bYy7sZGn9v"
      }
    },
    {
      "cell_type": "markdown",
      "source": [],
      "metadata": {
        "id": "RMjmND-MIq90"
      }
    },
    {
      "cell_type": "markdown",
      "source": [
        "### **Question 4: What is the Interquartile Range(25% to 75%) in prices for rides?**"
      ],
      "metadata": {
        "id": "c7YuNsJzHRI5"
      }
    },
    {
      "cell_type": "markdown",
      "source": [],
      "metadata": {
        "id": "t8dySAJMGmwB"
      }
    },
    {
      "cell_type": "markdown",
      "source": [
        "# **Exploratory Data Analysis**"
      ],
      "metadata": {
        "id": "qzhqHYKM3xKP"
      }
    },
    {
      "cell_type": "markdown",
      "source": [
        "## **Univariate Analysis**"
      ],
      "metadata": {
        "id": "iZyTcQvM41Tx"
      }
    },
    {
      "cell_type": "markdown",
      "source": [
        "### **Question 5: Plot Histograms and Box Plots For Each Of the Values With Numerical Values**"
      ],
      "metadata": {
        "id": "tHsqPi6fjKwx"
      }
    },
    {
      "cell_type": "markdown",
      "source": [
        "#### Distance"
      ],
      "metadata": {
        "id": "lQEx8PTBMD6g"
      }
    },
    {
      "cell_type": "code",
      "source": [],
      "metadata": {
        "id": "sX5iaGlq4Jpp"
      },
      "execution_count": null,
      "outputs": []
    },
    {
      "cell_type": "markdown",
      "source": [
        "#### Price"
      ],
      "metadata": {
        "id": "sJfNX0iGMMqb"
      }
    },
    {
      "cell_type": "code",
      "source": [],
      "metadata": {
        "id": "cyf-ychD5I3L"
      },
      "execution_count": null,
      "outputs": []
    },
    {
      "cell_type": "markdown",
      "source": [
        "#### Surge Multiplier"
      ],
      "metadata": {
        "id": "Gaq8Hj2LMPMA"
      }
    },
    {
      "cell_type": "code",
      "source": [],
      "metadata": {
        "id": "QhJa1TcC5eu7"
      },
      "execution_count": null,
      "outputs": []
    },
    {
      "cell_type": "markdown",
      "source": [
        "### **Question 6: Plot CountPlots For Columns With Catergorical Values**"
      ],
      "metadata": {
        "id": "x5SKzMyvKsU9"
      }
    },
    {
      "cell_type": "markdown",
      "source": [
        "#### Cab Type"
      ],
      "metadata": {
        "id": "M1VSXER2MUQx"
      }
    },
    {
      "cell_type": "code",
      "source": [],
      "metadata": {
        "id": "bOoRt_C7MXgB"
      },
      "execution_count": null,
      "outputs": []
    },
    {
      "cell_type": "markdown",
      "source": [
        "#### Source"
      ],
      "metadata": {
        "id": "oibv491NMrIK"
      }
    },
    {
      "cell_type": "code",
      "source": [],
      "metadata": {
        "id": "PFsVps4J6fVS"
      },
      "execution_count": null,
      "outputs": []
    },
    {
      "cell_type": "markdown",
      "source": [
        "#### Destination"
      ],
      "metadata": {
        "id": "hJV8bnFEMyt0"
      }
    },
    {
      "cell_type": "code",
      "source": [],
      "metadata": {
        "id": "Y_hXNsIZ7HOc"
      },
      "execution_count": null,
      "outputs": []
    },
    {
      "cell_type": "markdown",
      "source": [
        "#### Name"
      ],
      "metadata": {
        "id": "FTSPE5oqQmbi"
      }
    },
    {
      "cell_type": "code",
      "source": [],
      "metadata": {
        "id": "yzZMpsUwQsUh"
      },
      "execution_count": null,
      "outputs": []
    },
    {
      "cell_type": "markdown",
      "source": [
        "#### Trip (Source to Destination)"
      ],
      "metadata": {
        "id": "E12wUxzgToAn"
      }
    },
    {
      "cell_type": "markdown",
      "source": [
        "\n",
        "- Create a new column called \"trip\"\n",
        "- Assign the new column a string composed of the following concatenation:    **\"source\"** value + **\" --> \"** + **\"destination\"** value\n",
        "- Create a countplot for the new column\n",
        "\n",
        "Create new column and view table."
      ],
      "metadata": {
        "id": "UpMb6L4yM8U4"
      }
    },
    {
      "cell_type": "code",
      "source": [],
      "metadata": {
        "id": "LVVBkB4AOPff"
      },
      "execution_count": null,
      "outputs": []
    },
    {
      "cell_type": "markdown",
      "source": [
        "Create countplot of the \"trip\" column"
      ],
      "metadata": {
        "id": "9cUWcXDMOobs"
      }
    },
    {
      "cell_type": "code",
      "source": [],
      "metadata": {
        "id": "gj2BYIc5OtTf"
      },
      "execution_count": null,
      "outputs": []
    },
    {
      "cell_type": "markdown",
      "source": [
        "#### Hours"
      ],
      "metadata": {
        "id": "7kfzkE4ZTr_h"
      }
    },
    {
      "cell_type": "markdown",
      "source": [
        "\n",
        "\n",
        "Separate the hour in which the ride took place from the date time format\n",
        "- Google how to extract the hour from the date time format\n",
        "- Create a new column,\"hour\", and assign it the hour for each trip.\n",
        "\n",
        "View the updated dataframe"
      ],
      "metadata": {
        "id": "mgYLsK9PQ7oi"
      }
    },
    {
      "cell_type": "code",
      "source": [],
      "metadata": {
        "id": "vS1hzEC2RkVg"
      },
      "execution_count": null,
      "outputs": []
    },
    {
      "cell_type": "markdown",
      "source": [
        "Create a countplot, histogram, and boxplot for the new \"hour\" column"
      ],
      "metadata": {
        "id": "KfpujCRgSTXk"
      }
    },
    {
      "cell_type": "code",
      "source": [],
      "metadata": {
        "id": "qb6AmBs_Sg-P"
      },
      "execution_count": null,
      "outputs": []
    },
    {
      "cell_type": "code",
      "source": [],
      "metadata": {
        "id": "K-KBd2paSp7e"
      },
      "execution_count": null,
      "outputs": []
    },
    {
      "cell_type": "code",
      "source": [],
      "metadata": {
        "id": "8eYCYahDSypn"
      },
      "execution_count": null,
      "outputs": []
    },
    {
      "cell_type": "markdown",
      "source": [
        "## **Bivariate Analysis**"
      ],
      "metadata": {
        "id": "z4udi0gITys1"
      }
    },
    {
      "cell_type": "markdown",
      "source": [
        "### **Question 7: Create A Heatmap For Columns Numerical Values\"**"
      ],
      "metadata": {
        "id": "cgu4iJHXUC3q"
      }
    },
    {
      "cell_type": "code",
      "source": [],
      "metadata": {
        "id": "aRLyBbtnUSyP"
      },
      "execution_count": null,
      "outputs": []
    },
    {
      "cell_type": "markdown",
      "source": [],
      "metadata": {
        "id": "Ty4RteHDVm6p"
      }
    },
    {
      "cell_type": "code",
      "source": [],
      "metadata": {
        "id": "NO_ZQccsVlmw"
      },
      "execution_count": null,
      "outputs": []
    }
  ]
}